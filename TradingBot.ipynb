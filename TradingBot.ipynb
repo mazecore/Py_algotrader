{
 "cells": [
  {
   "cell_type": "code",
   "execution_count": 84,
   "metadata": {},
   "outputs": [],
   "source": [
    "import requests\n",
    "import matplotlib.pyplot as plt\n",
    "import numpy\n",
    "import pandas as pd  \n",
    "from math import *\n",
    "import time, datetime"
   ]
  },
  {
   "cell_type": "code",
   "execution_count": 137,
   "metadata": {},
   "outputs": [
    {
     "name": "stdout",
     "output_type": "stream",
     "text": [
      "<class 'str'>\n",
      "1576990514\n",
      "2019-12-21 23:55:14\n"
     ]
    }
   ],
   "source": [
    "now = str(time.time()).split('.')[0]\n",
    "print(type(now))\n",
    "print(now)\n",
    "print(str(datetime.datetime.now()).split('.')[0])\n",
    "import sys"
   ]
  },
  {
   "cell_type": "code",
   "execution_count": 141,
   "metadata": {},
   "outputs": [
    {
     "data": {
      "text/plain": [
       "'3.7.5 (default, Oct 31 2019, 15:18:51) [MSC v.1916 64 bit (AMD64)]'"
      ]
     },
     "execution_count": 141,
     "metadata": {},
     "output_type": "execute_result"
    }
   ],
   "source": [
    "\n",
    "url = \"https://query1.finance.yahoo.com/v8/finance/chart/%5EGSPC?symbol=%5EGSPC&period1={}&period2={}&interval={}&includePrePost=true&events=div%7Csplit%7Cearn&lang=en-US&region=US&crumb=ED2zlWJHcMa&corsDomain=finance.yahoo.com\"\n",
    "\n",
    "r = requests.get(url.format('1574186393', now, '30m'))\n",
    "\n",
    "# r = requests.get(\"\"\"https://query1.finance.yahoo.com/v8/finance/chart/%5EGSPC?symbol=%5EGSPC&period1=1574186393&period2=1576778393&interval=30m&includePrePost=true&events=div%7Csplit%7Cearn&lang=en-US&region=US&crumb=ED2zlWJHcMa&corsDomain=finance.yahoo.com\n",
    "# \"\"\")\n",
    "yahoo = r.json()\n",
    "time = yahoo[\"chart\"][\"result\"][0][\"timestamp\"]\n",
    "close =  yahoo[\"chart\"][\"result\"][0][\"indicators\"][\"quote\"][0][\"close\"]\n",
    "low =  yahoo[\"chart\"][\"result\"][0][\"indicators\"][\"quote\"][0][\"low\"]\n",
    "high =  yahoo[\"chart\"][\"result\"][0][\"indicators\"][\"quote\"][0][\"high\"]\n",
    "open =  yahoo[\"chart\"][\"result\"][0][\"indicators\"][\"quote\"][0][\"open\"]\n",
    "volume =  yahoo[\"chart\"][\"result\"][0][\"indicators\"][\"quote\"][0][\"volume\"]\n",
    "\n",
    "sys.version\n"
   ]
  },
  {
   "cell_type": "code",
   "execution_count": 139,
   "metadata": {},
   "outputs": [
    {
     "data": {
      "text/html": [
       "<div>\n",
       "<style scoped>\n",
       "    .dataframe tbody tr th:only-of-type {\n",
       "        vertical-align: middle;\n",
       "    }\n",
       "\n",
       "    .dataframe tbody tr th {\n",
       "        vertical-align: top;\n",
       "    }\n",
       "\n",
       "    .dataframe thead th {\n",
       "        text-align: right;\n",
       "    }\n",
       "</style>\n",
       "<table border=\"1\" class=\"dataframe\">\n",
       "  <thead>\n",
       "    <tr style=\"text-align: right;\">\n",
       "      <th></th>\n",
       "      <th>Open</th>\n",
       "      <th>Low</th>\n",
       "      <th>High</th>\n",
       "      <th>Close</th>\n",
       "      <th>Volume</th>\n",
       "    </tr>\n",
       "  </thead>\n",
       "  <tbody>\n",
       "    <tr>\n",
       "      <th>0</th>\n",
       "      <td>3119.360107</td>\n",
       "      <td>3119.290039</td>\n",
       "      <td>3120.560059</td>\n",
       "      <td>3120.560059</td>\n",
       "      <td>0</td>\n",
       "    </tr>\n",
       "    <tr>\n",
       "      <th>1</th>\n",
       "      <td>3120.570068</td>\n",
       "      <td>3118.729980</td>\n",
       "      <td>3122.389893</td>\n",
       "      <td>3121.030029</td>\n",
       "      <td>76558773</td>\n",
       "    </tr>\n",
       "    <tr>\n",
       "      <th>2</th>\n",
       "      <td>3121.030029</td>\n",
       "      <td>3120.699951</td>\n",
       "      <td>3122.659912</td>\n",
       "      <td>3121.040039</td>\n",
       "      <td>78143695</td>\n",
       "    </tr>\n",
       "    <tr>\n",
       "      <th>3</th>\n",
       "      <td>3121.030029</td>\n",
       "      <td>3121.030029</td>\n",
       "      <td>3125.159912</td>\n",
       "      <td>3124.820068</td>\n",
       "      <td>84908468</td>\n",
       "    </tr>\n",
       "    <tr>\n",
       "      <th>4</th>\n",
       "      <td>3124.820068</td>\n",
       "      <td>3121.570068</td>\n",
       "      <td>3124.860107</td>\n",
       "      <td>3122.040039</td>\n",
       "      <td>83130457</td>\n",
       "    </tr>\n",
       "    <tr>\n",
       "      <th>...</th>\n",
       "      <td>...</td>\n",
       "      <td>...</td>\n",
       "      <td>...</td>\n",
       "      <td>...</td>\n",
       "      <td>...</td>\n",
       "    </tr>\n",
       "    <tr>\n",
       "      <th>328</th>\n",
       "      <td>3221.850098</td>\n",
       "      <td>3221.439941</td>\n",
       "      <td>3225.649902</td>\n",
       "      <td>3224.899902</td>\n",
       "      <td>83408607</td>\n",
       "    </tr>\n",
       "    <tr>\n",
       "      <th>329</th>\n",
       "      <td>3224.899902</td>\n",
       "      <td>3222.669922</td>\n",
       "      <td>3224.909912</td>\n",
       "      <td>3222.889893</td>\n",
       "      <td>110834236</td>\n",
       "    </tr>\n",
       "    <tr>\n",
       "      <th>330</th>\n",
       "      <td>3222.879883</td>\n",
       "      <td>3220.510010</td>\n",
       "      <td>3223.840088</td>\n",
       "      <td>3220.510010</td>\n",
       "      <td>422271887</td>\n",
       "    </tr>\n",
       "    <tr>\n",
       "      <th>331</th>\n",
       "      <td>3221.160000</td>\n",
       "      <td>3221.160000</td>\n",
       "      <td>3221.230000</td>\n",
       "      <td>3221.220000</td>\n",
       "      <td>1468734712</td>\n",
       "    </tr>\n",
       "    <tr>\n",
       "      <th>332</th>\n",
       "      <td>3221.220000</td>\n",
       "      <td>3221.220000</td>\n",
       "      <td>3221.220000</td>\n",
       "      <td>3221.220000</td>\n",
       "      <td>261819360</td>\n",
       "    </tr>\n",
       "  </tbody>\n",
       "</table>\n",
       "<p>333 rows × 5 columns</p>\n",
       "</div>"
      ],
      "text/plain": [
       "            Open          Low         High        Close      Volume\n",
       "0    3119.360107  3119.290039  3120.560059  3120.560059           0\n",
       "1    3120.570068  3118.729980  3122.389893  3121.030029    76558773\n",
       "2    3121.030029  3120.699951  3122.659912  3121.040039    78143695\n",
       "3    3121.030029  3121.030029  3125.159912  3124.820068    84908468\n",
       "4    3124.820068  3121.570068  3124.860107  3122.040039    83130457\n",
       "..           ...          ...          ...          ...         ...\n",
       "328  3221.850098  3221.439941  3225.649902  3224.899902    83408607\n",
       "329  3224.899902  3222.669922  3224.909912  3222.889893   110834236\n",
       "330  3222.879883  3220.510010  3223.840088  3220.510010   422271887\n",
       "331  3221.160000  3221.160000  3221.230000  3221.220000  1468734712\n",
       "332  3221.220000  3221.220000  3221.220000  3221.220000   261819360\n",
       "\n",
       "[333 rows x 5 columns]"
      ]
     },
     "execution_count": 139,
     "metadata": {},
     "output_type": "execute_result"
    }
   ],
   "source": [
    "def MFI(df, n):\n",
    "    PP = (df['High'] + df['Low'] + df['Close']) / 3\n",
    "    i = 0\n",
    "    PosMF = [0]\n",
    "    while i < df.index[-1]:\n",
    "        if PP[i + 1] > PP[i]:\n",
    "            PosMF.append(PP[i + 1] * df.get_value(i + 1, 'Volume'))\n",
    "        else:\n",
    "            PosMF.append(0)\n",
    "        i = i + 1\n",
    "    PosMF = pd.Series(PosMF)\n",
    "    TotMF = PP * df['Volume']\n",
    "    MFR = pd.Series(PosMF / TotMF)\n",
    "    MFI = pd.Series(MFR.rolling(n).mean(), name = 'MFI_' + str(n))\n",
    "    df = df.join(MFI)\n",
    "    return df\n",
    "\n",
    "def MFI2(df, n):\n",
    "    \"\"\"\n",
    "    Money Flow Index and Ratio\n",
    "    \"\"\"\n",
    "    PP = (df['High'] + df['Low'] + df['Close']) / 3\n",
    "    i = 0\n",
    "    PosMF = [0]\n",
    "    while i < len(df) - 1:  # df.index[-1]:\n",
    "        if PP[i + 1] > PP[i]:\n",
    "            PosMF.append(PP[i + 1] * df.iat[i + 1, df.columns.get_loc('Volume')])\n",
    "        else:\n",
    "            PosMF.append(0)\n",
    "        i=i + 1\n",
    "    PosMF = pd.Series(PosMF)\n",
    "    TotMF = PP * df['Volume']\n",
    "    MFR = pd.Series(PosMF / TotMF)\n",
    "    result = pd.Series(MFR.rolling(n).mean(), name='MFI_' + str(n))\n",
    "    return result\n",
    "\n",
    "\n",
    "# intialise data of lists. \n",
    "data = {'Open':open, 'Low': low , 'High': high, 'Close': close,'Volume':volume} \n",
    "  \n",
    "# Create DataFrame \n",
    "df = pd.DataFrame(data) \n",
    "  \n",
    "# Print the output. \n",
    "df "
   ]
  },
  {
   "cell_type": "code",
   "execution_count": 140,
   "metadata": {},
   "outputs": [
    {
     "data": {
      "text/plain": [
       "0           NaN\n",
       "1           NaN\n",
       "2           NaN\n",
       "3           NaN\n",
       "4           NaN\n",
       "         ...   \n",
       "328    0.714286\n",
       "329    0.642857\n",
       "330    0.571429\n",
       "331    0.500000\n",
       "332    0.500000\n",
       "Name: MFI_14, Length: 333, dtype: float64"
      ]
     },
     "execution_count": 140,
     "metadata": {},
     "output_type": "execute_result"
    },
    {
     "data": {
      "image/png": "[encoded data removed]",
      "text/plain": [
       "<Figure size 432x288 with 1 Axes>"
      ]
     },
     "metadata": {
      "needs_background": "light"
     },
     "output_type": "display_data"
    }
   ],
   "source": [
    "# mf = MFI(df, 14)\n",
    "mfi = MFI2(df, 14)\n",
    "plt.plot(mfi)\n",
    "# mf\n",
    "mfi"
   ]
  },
  {
   "cell_type": "code",
   "execution_count": 83,
   "metadata": {},
   "outputs": [
    {
     "name": "stdout",
     "output_type": "stream",
     "text": [
      "\f",
      "\n"
     ]
    }
   ],
   "source": [
    "\n"
   ]
  },
  {
   "cell_type": "code",
   "execution_count": null,
   "metadata": {},
   "outputs": [],
   "source": []
  }
 ],
 "metadata": {
  "kernelspec": {
   "display_name": "Python 3",
   "language": "python",
   "name": "python3"
  },
  "language_info": {
   "codemirror_mode": {
    "name": "ipython",
    "version": 3
   },
   "file_extension": ".py",
   "mimetype": "text/x-python",
   "name": "python",
   "nbconvert_exporter": "python",
   "pygments_lexer": "ipython3",
   "version": "3.7.5"
  }
 },
 "nbformat": 4,
 "nbformat_minor": 2
}
